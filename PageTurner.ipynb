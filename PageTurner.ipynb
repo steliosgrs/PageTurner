{
 "cells": [
  {
   "cell_type": "markdown",
   "metadata": {},
   "source": [
    "# Import Libraries"
   ]
  },
  {
   "cell_type": "code",
   "execution_count": 18,
   "metadata": {},
   "outputs": [],
   "source": [
    "# !pip install pyautogui\n",
    "import pyautogui as pag\n",
    "import mediapipe as mp\n",
    "import cv2 \n",
    "import numpy as np\n",
    "import uuid\n",
    "import os\n",
    "import time\n",
    "\n",
    "# import time\n",
    "# org =(10,50)\n",
    "# t=30"
   ]
  },
  {
   "cell_type": "code",
   "execution_count": 13,
   "metadata": {},
   "outputs": [],
   "source": [
    "mp_drawing = mp.solutions.drawing_utils\n",
    "mp_hands = mp.solutions.hands"
   ]
  },
  {
   "cell_type": "markdown",
   "metadata": {},
   "source": [
    "# Landmarks for hand"
   ]
  },
  {
   "cell_type": "markdown",
   "metadata": {},
   "source": [
    "![](https://google.github.io/mediapipe/images/mobile/hand_landmarks.png)"
   ]
  },
  {
   "cell_type": "code",
   "execution_count": 73,
   "metadata": {},
   "outputs": [],
   "source": [
    "widht, height = 640, 480\n",
    "STAGE= 'Idle'\n",
    "RightPressed = False\n",
    "cap = cv2.VideoCapture(0)\n",
    "with mp_hands.Hands(min_detection_confidence = 0.8,\n",
    "                   min_tracking_confidence = 0.5) as hands:\n",
    "    cap.set(3,widht)\n",
    "    cap.set(4,height)\n",
    "\n",
    "    # Open Camera\n",
    "    while cap.isOpened():\n",
    "        ret, frame = cap.read()\n",
    "        cap2 = cap\n",
    "        \n",
    "        # Detections \n",
    "        image = cv2.cvtColor(frame, cv2.COLOR_BGR2RGB)\n",
    "        image = cv2.flip(image, 1)\n",
    "\n",
    "        image.flags.writeable = False\n",
    "        results = hands.process(image)\n",
    "        image.flags.writeable = True\n",
    "        image = cv2.cvtColor(image,cv2.COLOR_RGB2BGR)\n",
    "        \n",
    "        # Extrack landmarks\n",
    "        try:\n",
    "            landmarks = results.multi_hand_landmarks[0]\n",
    "            index = landmarks.landmark[mp_hands.HandLandmark.INDEX_FINGER_TIP]\n",
    "            middle = landmarks.landmark[mp_hands.HandLandmark.MIDDLE_FINGER_TIP]\n",
    "            turn_page(index,middle,STAGE,RightPressed)\n",
    "            RightPressed = False\n",
    "        except:\n",
    "            pass\n",
    "        \n",
    "#         index = results.multi_hand_landmarks[0].landmark[mp_hands.HandLandmark.INDEX_FINGER_TIP]\n",
    "#         middle = results.multi_hand_landmarks[0].landmark[mp_hands.HandLandmark.MIDDLE_FINGER_TIP]\n",
    "        \n",
    "#         print(int(index.x*640))\n",
    "        cv2.rectangle(image,(640,180),(0,190),(0,255,0),-1)\n",
    "        cv2.rectangle(image,(440,480),(450,0),(0,255,0),-1)\n",
    "        \n",
    "#         time.sleep(1)\n",
    "#         cv2.rectangle(image,(640,180),(0,190),(0,255,0),-1)\n",
    "\n",
    "        # Rendering results\n",
    "        if results.multi_hand_landmarks:\n",
    "            for num, hand in enumerate(results.multi_hand_landmarks):\n",
    "                mp_drawing.draw_landmarks(image, hand, mp_hands.HAND_CONNECTIONS,\n",
    "                mp_drawing.DrawingSpec(color=(36, 182, 255), thickness=2, circle_radius=2),\n",
    "                mp_drawing.DrawingSpec(color=(10,226,130), thickness=2, circle_radius=2)\n",
    "                )\n",
    "        \n",
    "        cv2.imshow('Hand Tracking', image)\n",
    "        \n",
    "        if cv2.waitKey(10) & 0xFF == ord('q'):\n",
    "            break\n",
    "    cap.release()\n",
    "    cv2.destroyAllWindows()"
   ]
  },
  {
   "cell_type": "code",
   "execution_count": 72,
   "metadata": {},
   "outputs": [],
   "source": [
    "def turn_page(ind_fin, mid_fin,stage,RightPressed):\n",
    "    width, height = 640, 480\n",
    "    \n",
    "    \n",
    "    if int(ind_fin.x*width) < 440 and int(ind_fin.y*height) < 180 and stage=='Idle':\n",
    "        start_time = time.time()\n",
    "        RightPressed = True\n",
    "        if RightPressed:\n",
    "            pag.press('right')\n",
    "            stage = 'Active'\n",
    "        if (start_time - start_time) < 1.0:\n",
    "            pag.press('right')\n",
    "            RightPressed = False\n",
    "#             start_time = time.time()\n",
    "            print(start_time)\n",
    "#             RightPressed = True\n",
    "#     if RightPressed:\n",
    "#         end_time = time.time()\n",
    "#         print(end_time - start_time)\n",
    "#         if (end_time - start_time) < 1.0:\n",
    "#             pag.press('right')\n",
    "#             RightPressed = False\n",
    "        \n",
    "        \n",
    "    if int(ind_fin.x*width) > 440 and int(ind_fin.y*height) < 180 and stage=='Active':\n",
    "        stage = 'Idle'\n",
    "        RightPressed = False\n",
    "        \n",
    "    cv2.putText(image,stage,(15,50),cv2.FONT_HERSHEY_PLAIN,\n",
    "               1,(0,0,0),2,cv2.LINE_AA\n",
    "               )"
   ]
  },
  {
   "cell_type": "code",
   "execution_count": 25,
   "metadata": {},
   "outputs": [
    {
     "data": {
      "text/plain": [
       "<HandLandmark.MIDDLE_FINGER_TIP: 12>"
      ]
     },
     "execution_count": 25,
     "metadata": {},
     "output_type": "execute_result"
    }
   ],
   "source": [
    "mp_hands.HandLandmark??\n",
    "mp_hands.HandLandmark.INDEX_FINGER_TIP\n",
    "mp_hands.HandLandmark.MIDDLE_FINGER_TIP"
   ]
  },
  {
   "cell_type": "code",
   "execution_count": 5,
   "metadata": {
    "collapsed": true
   },
   "outputs": [
    {
     "ename": "NameError",
     "evalue": "name 'landmarks' is not defined",
     "output_type": "error",
     "traceback": [
      "\u001b[1;31m---------------------------------------------------------------------------\u001b[0m",
      "\u001b[1;31mNameError\u001b[0m                                 Traceback (most recent call last)",
      "\u001b[1;32m~\\AppData\\Local\\Temp\\ipykernel_9932\\759732623.py\u001b[0m in \u001b[0;36m<module>\u001b[1;34m\u001b[0m\n\u001b[1;32m----> 1\u001b[1;33m \u001b[0mmiddle\u001b[0m \u001b[1;33m=\u001b[0m \u001b[1;33m[\u001b[0m\u001b[0mlandmarks\u001b[0m\u001b[1;33m[\u001b[0m\u001b[0mmp_hands\u001b[0m\u001b[1;33m.\u001b[0m\u001b[0mHandLandmark\u001b[0m\u001b[1;33m.\u001b[0m\u001b[0mMIDDLE_FINGER_TIP\u001b[0m\u001b[1;33m.\u001b[0m\u001b[0mvalue\u001b[0m\u001b[1;33m]\u001b[0m\u001b[1;33m.\u001b[0m\u001b[0mx\u001b[0m\u001b[1;33m,\u001b[0m \u001b[0mlandmarks\u001b[0m\u001b[1;33m[\u001b[0m\u001b[0mmp_hands\u001b[0m\u001b[1;33m.\u001b[0m\u001b[0mHandLandmark\u001b[0m\u001b[1;33m.\u001b[0m\u001b[0mMIDDLE_FINGER_TIP\u001b[0m\u001b[1;33m.\u001b[0m\u001b[0mvalue\u001b[0m\u001b[1;33m]\u001b[0m\u001b[1;33m.\u001b[0m\u001b[0my\u001b[0m\u001b[1;33m]\u001b[0m\u001b[1;33m\u001b[0m\u001b[1;33m\u001b[0m\u001b[0m\n\u001b[0m\u001b[0;32m      2\u001b[0m \u001b[0mindex\u001b[0m \u001b[1;33m=\u001b[0m \u001b[1;33m[\u001b[0m\u001b[0mlandmarks\u001b[0m\u001b[1;33m[\u001b[0m\u001b[0mmp_hands\u001b[0m\u001b[1;33m.\u001b[0m\u001b[0mHandLandmark\u001b[0m\u001b[1;33m.\u001b[0m\u001b[0mINDEX_FINGER_TIP\u001b[0m\u001b[1;33m.\u001b[0m\u001b[0mvalue\u001b[0m\u001b[1;33m]\u001b[0m\u001b[1;33m.\u001b[0m\u001b[0mx\u001b[0m\u001b[1;33m,\u001b[0m \u001b[0mlandmarks\u001b[0m\u001b[1;33m[\u001b[0m\u001b[0mmp_hands\u001b[0m\u001b[1;33m.\u001b[0m\u001b[0mHandLandmark\u001b[0m\u001b[1;33m.\u001b[0m\u001b[0mINDEX_FINGER_TIP\u001b[0m\u001b[1;33m.\u001b[0m\u001b[0mvalue\u001b[0m\u001b[1;33m]\u001b[0m\u001b[1;33m.\u001b[0m\u001b[0my\u001b[0m\u001b[1;33m]\u001b[0m\u001b[1;33m\u001b[0m\u001b[1;33m\u001b[0m\u001b[0m\n",
      "\u001b[1;31mNameError\u001b[0m: name 'landmarks' is not defined"
     ]
    }
   ],
   "source": [
    "middle = [landmarks[mp_hands.HandLandmark.MIDDLE_FINGER_TIP.value].x, landmarks[mp_hands.HandLandmark.MIDDLE_FINGER_TIP.value].y]\n",
    "index = [landmarks[mp_hands.HandLandmark.INDEX_FINGER_TIP.value].x, landmarks[mp_hands.HandLandmark.INDEX_FINGER_TIP.value].y]"
   ]
  },
  {
   "cell_type": "code",
   "execution_count": 7,
   "metadata": {},
   "outputs": [],
   "source": [
    "index = results.multi_hand_landmarks[0].landmark[mp_hands.HandLandmark.INDEX_FINGER_TIP]"
   ]
  },
  {
   "cell_type": "code",
   "execution_count": 11,
   "metadata": {},
   "outputs": [
    {
     "data": {
      "text/plain": [
       "0.6129637956619263"
      ]
     },
     "execution_count": 11,
     "metadata": {},
     "output_type": "execute_result"
    }
   ],
   "source": [
    "index"
   ]
  },
  {
   "cell_type": "code",
   "execution_count": 9,
   "metadata": {},
   "outputs": [],
   "source": [
    "middle = results.multi_hand_landmarks[0].landmark[mp_hands.HandLandmark.MIDDLE_FINGER_TIP]"
   ]
  },
  {
   "cell_type": "code",
   "execution_count": 10,
   "metadata": {},
   "outputs": [
    {
     "data": {
      "text/plain": [
       "x: 0.6885759234428406\n",
       "y: 0.3145177662372589\n",
       "z: -0.0501977875828743"
      ]
     },
     "execution_count": 10,
     "metadata": {},
     "output_type": "execute_result"
    }
   ],
   "source": [
    "middle"
   ]
  },
  {
   "cell_type": "code",
   "execution_count": 27,
   "metadata": {},
   "outputs": [
    {
     "data": {
      "text/plain": [
       "0.0"
      ]
     },
     "execution_count": 27,
     "metadata": {},
     "output_type": "execute_result"
    }
   ],
   "source": [
    "cap.get(cv2.CAP_PROP_FRAME_HEIGHT)"
   ]
  },
  {
   "cell_type": "code",
   "execution_count": null,
   "metadata": {},
   "outputs": [],
   "source": []
  }
 ],
 "metadata": {
  "kernelspec": {
   "display_name": "Python 3",
   "language": "python",
   "name": "python3"
  },
  "language_info": {
   "codemirror_mode": {
    "name": "ipython",
    "version": 3
   },
   "file_extension": ".py",
   "mimetype": "text/x-python",
   "name": "python",
   "nbconvert_exporter": "python",
   "pygments_lexer": "ipython3",
   "version": "3.8.3"
  },
  "vscode": {
   "interpreter": {
    "hash": "5109d816b82be14675a6b11f8e0f0d2e80f029176ed3710d54e125caa8520dfd"
   }
  }
 },
 "nbformat": 4,
 "nbformat_minor": 4
}
